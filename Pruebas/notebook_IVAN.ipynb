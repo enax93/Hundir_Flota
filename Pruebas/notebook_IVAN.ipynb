{
 "cells": [
  {
   "cell_type": "code",
   "execution_count": 8,
   "metadata": {},
   "outputs": [],
   "source": [
    "import numpy as np"
   ]
  },
  {
   "cell_type": "code",
   "execution_count": 9,
   "metadata": {},
   "outputs": [],
   "source": [
    "jugador = \"Iván\"\n",
    "dimension = np.array([10, 10])\n",
    "barcos={\"barco1\" : 1, # La clave es el nombre del barco y el valor es su eslora\n",
    "        \"barco2\" : 2,\n",
    "        \"barco3\" : 3}"
   ]
  },
  {
   "cell_type": "code",
   "execution_count": 10,
   "metadata": {},
   "outputs": [],
   "source": [
    "class TableroFlota():\n",
    "\n",
    "    def __init__(self, jugador, barcos, dimension=10):\n",
    "        self.jugador = jugador\n",
    "        self.dimension = dimension\n",
    "        self.barcos = barcos\n",
    "\n",
    "    def colocar_barcos(self):\n",
    "        for barco in self.barcos:\n",
    "            while True:\n",
    "                x = random.randint(0, self.dimension - 1)\n",
    "                y = random.randint(0, self.dimension - 1)\n",
    "                orientacion = random.choice(['h', 'v'])\n",
    "                \n",
    "                if self.posicion_valida(x, y, orientacion, barco.longitud):\n",
    "                    if orientacion == 'h':\n",
    "                        for i in range(barco.longitud):\n",
    "                            self.tablero[y][x + i] = 1\n",
    "                    elif orientacion == 'v':\n",
    "                        for i in range(barco.longitud):\n",
    "                            self.tablero[y + i][x] = 1\n",
    "                    break\n",
    "\n",
    "    def posicion_valida(self, x, y, orientacion, longitud):\n",
    "        if orientacion == 'h' and x + longitud > self.dimension:\n",
    "            return False\n",
    "        elif orientacion == 'v' and y + longitud > self.dimension:\n",
    "            return False\n",
    "        \n",
    "        for i in range(longitud):\n",
    "            if orientacion == 'h':\n",
    "                if self.tablero[y][x + i] == 1:\n",
    "                    return False\n",
    "            elif orientacion == 'v':\n",
    "                if self.tablero[y + i][x] == 1:\n",
    "                    return False\n",
    "        \n",
    "        return True\n",
    "    \n",
    "    def imprimir_tablero(self):\n",
    "    print(\"Tablero de\", self.jugador)\n",
    "    for i in range(self.dimension):\n",
    "        for j in range(self.dimension):\n",
    "            if self.tablero[i][j] == 1:\n",
    "                print(\"O\", end=\" \")\n",
    "            else:\n",
    "                print(\"~\", end=\" \")\n",
    "        print(\" \", i)"
   ]
  },
  {
   "cell_type": "code",
   "execution_count": 11,
   "metadata": {},
   "outputs": [
    {
     "name": "stdout",
     "output_type": "stream",
     "text": [
      "[['( )' '( )' '( )' '( )' '( )' '( )' '( )' '( )' '( )' '( )']\n",
      " ['( )' '( )' '( )' '( )' '( )' '( )' '( )' '( )' '( )' '( )']\n",
      " ['( )' '( )' '( )' '( )' '( )' '( )' '( )' '( )' '( )' '( )']\n",
      " ['( )' '( )' '( )' '( )' '( )' '( )' '( )' '( )' '( )' '( )']\n",
      " ['( )' '( )' '( )' '( )' '( )' '( )' '( )' '( )' '( )' '( )']\n",
      " ['( )' '( )' '( )' '( )' '( )' '( )' '( )' '( )' '( )' '( )']\n",
      " ['( )' '( )' '( )' '( )' '( )' '( )' '( )' '( )' '( )' '( )']\n",
      " ['( )' '( )' '( )' '( )' '( )' '( )' '( )' '( )' '( )' '( )']\n",
      " ['( )' '( )' '( )' '( )' '( )' '( )' '( )' '( )' '( )' '( )']\n",
      " ['( )' '( )' '( )' '( )' '( )' '( )' '( )' '( )' '( )' '( )']]\n"
     ]
    }
   ],
   "source": [
    "juego_1 = TableroFlota(jugador, dimension, barcos)"
   ]
  }
 ],
 "metadata": {
  "kernelspec": {
   "display_name": "Python 3",
   "language": "python",
   "name": "python3"
  },
  "language_info": {
   "codemirror_mode": {
    "name": "ipython",
    "version": 3
   },
   "file_extension": ".py",
   "mimetype": "text/x-python",
   "name": "python",
   "nbconvert_exporter": "python",
   "pygments_lexer": "ipython3",
   "version": "3.11.5"
  }
 },
 "nbformat": 4,
 "nbformat_minor": 2
}
