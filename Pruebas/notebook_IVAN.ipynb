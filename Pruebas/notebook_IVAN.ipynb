{
 "cells": [
  {
   "cell_type": "code",
   "execution_count": 8,
   "metadata": {},
   "outputs": [],
   "source": [
    "import numpy as np"
   ]
  },
  {
   "cell_type": "code",
   "execution_count": 9,
   "metadata": {},
   "outputs": [],
   "source": [
    "jugador = \"Iván\"\n",
    "dimension = np.array([10, 10])\n",
    "barcos={\"barco1\" : 1, # La clave es el nombre del barco y el valor es su eslora\n",
    "        \"barco2\" : 2,\n",
    "        \"barco3\" : 3}"
   ]
  },
  {
   "cell_type": "code",
   "execution_count": 10,
   "metadata": {},
   "outputs": [],
   "source": [
    "class TableroFlota():\n",
    "\n",
    "    def __init__(self, jugador, dimension, barcos):\n",
    "        self.jugador = jugador\n",
    "        self.dimension = dimension\n",
    "        self.barcos = barcos\n",
    "\n",
    "        tablero = np.full(dimension, '( )')\n",
    "        print(tablero)"
   ]
  },
  {
   "cell_type": "code",
   "execution_count": 11,
   "metadata": {},
   "outputs": [
    {
     "name": "stdout",
     "output_type": "stream",
     "text": [
      "[['( )' '( )' '( )' '( )' '( )' '( )' '( )' '( )' '( )' '( )']\n",
      " ['( )' '( )' '( )' '( )' '( )' '( )' '( )' '( )' '( )' '( )']\n",
      " ['( )' '( )' '( )' '( )' '( )' '( )' '( )' '( )' '( )' '( )']\n",
      " ['( )' '( )' '( )' '( )' '( )' '( )' '( )' '( )' '( )' '( )']\n",
      " ['( )' '( )' '( )' '( )' '( )' '( )' '( )' '( )' '( )' '( )']\n",
      " ['( )' '( )' '( )' '( )' '( )' '( )' '( )' '( )' '( )' '( )']\n",
      " ['( )' '( )' '( )' '( )' '( )' '( )' '( )' '( )' '( )' '( )']\n",
      " ['( )' '( )' '( )' '( )' '( )' '( )' '( )' '( )' '( )' '( )']\n",
      " ['( )' '( )' '( )' '( )' '( )' '( )' '( )' '( )' '( )' '( )']\n",
      " ['( )' '( )' '( )' '( )' '( )' '( )' '( )' '( )' '( )' '( )']]\n"
     ]
    }
   ],
   "source": [
    "juego_1 = TableroFlota(jugador, dimension, barcos)"
   ]
  }
 ],
 "metadata": {
  "kernelspec": {
   "display_name": "Python 3",
   "language": "python",
   "name": "python3"
  },
  "language_info": {
   "codemirror_mode": {
    "name": "ipython",
    "version": 3
   },
   "file_extension": ".py",
   "mimetype": "text/x-python",
   "name": "python",
   "nbconvert_exporter": "python",
   "pygments_lexer": "ipython3",
   "version": "3.11.5"
  }
 },
 "nbformat": 4,
 "nbformat_minor": 2
}
