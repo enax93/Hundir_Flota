{
 "cells": [
  {
   "cell_type": "code",
   "execution_count": 19,
   "metadata": {},
   "outputs": [
    {
     "name": "stdout",
     "output_type": "stream",
     "text": [
      "Barco de tamaño 4 agregado exitosamente:\n",
      "Barco de tamaño 3 agregado exitosamente:\n",
      "Barco de tamaño 2 agregado exitosamente:\n",
      "Barco de tamaño 1 agregado exitosamente:\n",
      "Ataque a (2, 2): Agua\n"
     ]
    }
   ],
   "source": [
    "import pandas as pd\n",
    "import numpy as np\n",
    "import random\n",
    "\n",
    "barcos = {\n",
    "    \"barco_1_eslora\" : 4,\n",
    "    \"barco_2_eslora\" : 3,\n",
    "    \"barco_3_eslora\" : 2,\n",
    "    \"barco_4_eslora\" : 1,\n",
    "}\n",
    "\n",
    "\n",
    "\n",
    "# Inicio los tableros como variables porque me parece mas sencillos para llamarlos luego\n",
    "\n",
    "tablero_jug_1 = np.full((10, 10), \" \", dtype=str)\n",
    "tablero_jug_2 = np.full ((10,10), \" \", dtype= str)\n",
    "\n",
    "\n",
    "\n",
    "def agregar_barco(tablero, tamano_barco): # esta es la variable principal\n",
    "    direccion = random.choice(['norte', 'sur', 'este', 'oeste'])\n",
    "    if direccion == 'norte':\n",
    "        fila_inicio = random.randint(tamano_barco - 1, len(tablero) - 1)\n",
    "        columna_inicio = random.randint(0, len(tablero[0]) - 1)\n",
    "        if fila_inicio - tamano_barco + 1 >= 0:\n",
    "            for i in range(fila_inicio, fila_inicio - tamano_barco, -1):\n",
    "                if tablero[i][columna_inicio] != \" \":\n",
    "                    return False\n",
    "            for i in range(fila_inicio, fila_inicio - tamano_barco, -1):\n",
    "                tablero[i][columna_inicio] = \"B\"\n",
    "            return True\n",
    "        \n",
    "    elif direccion == 'sur':\n",
    "        fila_inicio = random.randint(0, len(tablero) - tamano_barco)\n",
    "        columna_inicio = random.randint(0, len(tablero[0]) - 1)\n",
    "        if fila_inicio + tamano_barco <= len(tablero):\n",
    "            for i in range(fila_inicio, fila_inicio + tamano_barco):\n",
    "                if tablero[i][columna_inicio] != \" \":\n",
    "                    return False\n",
    "            for i in range(fila_inicio, fila_inicio + tamano_barco):\n",
    "                tablero[i][columna_inicio] = \"B\"\n",
    "            return True\n",
    "        \n",
    "    elif direccion == 'este':\n",
    "        fila_inicio = random.randint(0, len(tablero) - 1)\n",
    "        columna_inicio = random.randint(0, len(tablero[0]) - tamano_barco)\n",
    "        if columna_inicio + tamano_barco <= len(tablero[0]):\n",
    "            for i in range(columna_inicio, columna_inicio + tamano_barco):\n",
    "                if tablero[fila_inicio][i] != \" \":\n",
    "                    return False\n",
    "            for i in range(columna_inicio, columna_inicio + tamano_barco):\n",
    "                tablero[fila_inicio][i] = \"B\"\n",
    "            return True\n",
    "        \n",
    "    elif direccion == 'oeste':\n",
    "        fila_inicio = random.randint(0, len(tablero) - 1)\n",
    "        columna_inicio = random.randint(tamano_barco - 1, len(tablero[0]) - 1)\n",
    "        if columna_inicio - tamano_barco + 1 >= 0:\n",
    "            for i in range(columna_inicio, columna_inicio - tamano_barco, -1):\n",
    "                if tablero[fila_inicio][i] != \" \":\n",
    "                    return False\n",
    "            for i in range(columna_inicio, columna_inicio - tamano_barco, -1):\n",
    "                tablero[fila_inicio][i] = \"B\"\n",
    "            return True\n",
    "\n",
    "barcos = {\"barco_1_eslora\": 4, \"barco_2_eslora\": 3, \"barco_3_eslora\": 2, \"barco_4_eslora\": 1}\n",
    "\n",
    "tamanos_barcos = list (barcos.values()) # creamos una lista con los valores o eslora de los barcos\n",
    "\n",
    "#llamamos a la funcion agregar_barco(matriz_espacios, tamanos_barcos) metiendo los parametros del diccionario\n",
    "for tamano_barco in tamanos_barcos:\n",
    "    # Llamamos a la función con cada tamaño individual\n",
    "    resultado = agregar_barco(tablero_jug_1, tamano_barco)\n",
    "    resultado2 = agregar_barco (tablero_jug_2, tamano_barco)\n",
    "    \n",
    "    # Manejamos el resultado si es necesario (por ejemplo, imprimir un mensaje)\n",
    "    if resultado and resultado2:\n",
    "        print(f\"Barco de tamaño {tamano_barco} agregado exitosamente:\")\n",
    "        #\n",
    "    else:\n",
    "        print(f\"No se pudo agregar un barco de tamaño {tamano_barco}.\")\n",
    "\n",
    "\"\"\"\n",
    "AQUi TERMINA LA FUNCION COLOCAR BARCOS RANDOM \n",
    "                Y\n",
    "AQUI EMPIEZA LA FUNCION DE ATAQUE\n",
    "\n",
    "\"\"\"\n",
    "\n",
    "def atacar(tablero_oponente):\n",
    "    while True:\n",
    "        fila_ataque = int(input(\"Ingresa la fila para el ataque (0-9): \"))\n",
    "        columna_ataque = int(input(\"Ingresa la columna para el ataque (0-9): \"))\n",
    "        \n",
    "        # Validar las coordenadas\n",
    "        if fila_ataque < 0 or fila_ataque >= len(tablero_oponente) or columna_ataque < 0 or columna_ataque >= len(tablero_oponente[0]):\n",
    "            print(\"Coordenadas fuera de los límites del tablero. Intenta nuevamente.\")\n",
    "            continue  # Reinicia el bucle si las coordenadas son inválidas\n",
    "\n",
    "        coordenadas_atacadas = (fila_ataque, columna_ataque)\n",
    "\n",
    "        if tablero_oponente[fila_ataque][columna_ataque] == \"X\" or tablero_oponente[fila_ataque][columna_ataque] == \"O\":\n",
    "            print(\"Ya has atacado estas coordenadas. Intenta nuevamente.\")\n",
    "            continue  # Reinicia el bucle si ya se atacaron esas coordenadas\n",
    "\n",
    "        # Verificar si el ataque impacta en un barco del oponente\n",
    "        if tablero_oponente[fila_ataque][columna_ataque] == \"B\":\n",
    "            tablero_oponente[fila_ataque][columna_ataque] = 'X'  # Marcar como impactado en el tablero del oponente\n",
    "            mensaje = \"¡Impacto!\"\n",
    "            exito = True\n",
    "        else:\n",
    "            tablero_oponente[fila_ataque][columna_ataque] = 'O'  # Marcar como agua en el tablero del oponente\n",
    "            mensaje = \"Agua\"\n",
    "            exito = True\n",
    "\n",
    "        return mensaje, exito, coordenadas_atacadas\n",
    "\n",
    "\n",
    "\n",
    "mensaje, exito, coordenadas = atacar(tablero_jug_1)\n",
    "print(f\"Ataque a ({coordenadas[0]}, {coordenadas[1]}): {mensaje}\")\n",
    "\n",
    "\n",
    "\n",
    "\n"
   ]
  },
  {
   "cell_type": "code",
   "execution_count": 20,
   "metadata": {},
   "outputs": [
    {
     "name": "stdout",
     "output_type": "stream",
     "text": [
      "[[' ' ' ' 'B' 'B' 'B' ' ' ' ' ' ' ' ' ' ']\n",
      " [' ' ' ' ' ' ' ' ' ' ' ' ' ' ' ' ' ' ' ']\n",
      " [' ' ' ' 'O' ' ' ' ' ' ' ' ' ' ' ' ' ' ']\n",
      " [' ' 'B' ' ' ' ' ' ' ' ' ' ' 'B' ' ' ' ']\n",
      " [' ' 'B' ' ' ' ' ' ' ' ' ' ' ' ' ' ' ' ']\n",
      " [' ' ' ' ' ' ' ' ' ' ' ' ' ' ' ' ' ' ' ']\n",
      " [' ' ' ' ' ' ' ' ' ' ' ' ' ' ' ' ' ' ' ']\n",
      " [' ' ' ' ' ' ' ' ' ' 'B' 'B' 'B' 'B' ' ']\n",
      " [' ' ' ' ' ' ' ' ' ' ' ' ' ' ' ' ' ' ' ']\n",
      " [' ' ' ' ' ' ' ' ' ' ' ' ' ' ' ' ' ' ' ']]\n"
     ]
    }
   ],
   "source": [
    "print (tablero_jug_1) #imprimimos barcos jugador 1"
   ]
  },
  {
   "cell_type": "code",
   "execution_count": 16,
   "metadata": {},
   "outputs": [
    {
     "name": "stdout",
     "output_type": "stream",
     "text": [
      "[[' ' ' ' ' ' ' ' ' ' ' ' ' ' ' ' ' ' ' ']\n",
      " [' ' ' ' ' ' ' ' ' ' ' ' ' ' 'B' ' ' ' ']\n",
      " [' ' ' ' ' ' ' ' ' ' ' ' ' ' ' ' ' ' ' ']\n",
      " [' ' ' ' ' ' 'B' ' ' ' ' ' ' ' ' ' ' ' ']\n",
      " [' ' ' ' ' ' 'B' ' ' ' ' ' ' ' ' ' ' ' ']\n",
      " [' ' ' ' ' ' 'B' ' ' ' ' ' ' ' ' 'B' ' ']\n",
      " [' ' ' ' ' ' ' ' ' ' ' ' ' ' ' ' 'B' ' ']\n",
      " [' ' ' ' ' ' ' ' ' ' 'B' ' ' ' ' 'B' ' ']\n",
      " [' ' ' ' ' ' ' ' ' ' 'B' ' ' ' ' 'B' ' ']\n",
      " [' ' ' ' ' ' ' ' ' ' ' ' ' ' ' ' ' ' ' ']]\n"
     ]
    }
   ],
   "source": [
    "print (tablero_jug_2) #imprimimos barcos jugador 2"
   ]
  },
  {
   "cell_type": "code",
   "execution_count": null,
   "metadata": {},
   "outputs": [],
   "source": [
    "import numpy as np\n",
    "\n",
    "\n",
    "\n",
    "# Vidas iniciales de los jugadores\n",
    "vidas_jugador1 = 10\n",
    "vidas_jugador2 = 10\n",
    "\n",
    "# Jugadores\n",
    "jugador_actual = 1\n",
    "\n",
    "# Bucle principal\n",
    "while vidas_jugador1 >= 10 and vidas_jugador2 >= 10:\n",
    "    # Solicitar coordenadas al usuario actual\n",
    "    fila_ataque = int(input(f\"Jugador {jugador_actual}, ingresa la fila para el ataque (0-9): \"))\n",
    "    columna_ataque = int(input(f\"Jugador {jugador_actual}, ingresa la columna para el ataque (0-9): \"))\n",
    "\n",
    "    # Realizar el ataque según el jugador actual\n",
    "    if jugador_actual == 1:\n",
    "        mensaje, exito = atacar(matriz_espacios, fila_ataque, columna_ataque, coordenadas_atacadas_jugador2)\n",
    "        if exito:\n",
    "            vidas_jugador2 -= 1\n",
    "    else:\n",
    "        mensaje, exito = atacar(matriz_espacios, fila_ataque, columna_ataque, coordenadas_atacadas_jugador1)\n",
    "        if exito:\n",
    "            vidas_jugador1 -= 1\n",
    "\n",
    "    print(f\"Ataque a ({fila_ataque}, {columna_ataque}): {mensaje}\")\n",
    "    print(f\"Vidas del Jugador 1: {vidas_jugador1}\")\n",
    "    print(f\"Vidas del Jugador 2: {vidas_jugador2}\")\n",
    "\n",
    "    # Cambiar al siguiente jugador\n",
    "    jugador_actual = 3 - jugador_actual  # Alternar entre jugador 1 y jugador 2\n",
    "\n",
    "# Fin del juego\n",
    "if vidas_jugador1 < 10:\n",
    "    print(\"¡Jugador 2 gana!\")\n",
    "else:\n",
    "    print(\"¡Jugador 1 gana!\")\n"
   ]
  },
  {
   "cell_type": "code",
   "execution_count": 2,
   "metadata": {},
   "outputs": [
    {
     "name": "stdout",
     "output_type": "stream",
     "text": [
      "[[' ' ' ' ' ' ' ' ' ' ' ' ' ' ' ' ' ' ' ']\n",
      " [' ' ' ' ' ' ' ' ' ' ' ' 'B' 'B' 'B' ' ']\n",
      " [' ' ' ' 'B' ' ' ' ' ' ' ' ' ' ' ' ' ' ']\n",
      " [' ' ' ' 'B' ' ' ' ' ' ' ' ' ' ' ' ' ' ']\n",
      " [' ' ' ' 'B' ' ' ' ' ' ' ' ' ' ' ' ' ' ']\n",
      " ['B' 'B' 'B' 'B' ' ' ' ' ' ' ' ' ' ' ' ']\n",
      " [' ' ' ' 'B' ' ' ' ' ' ' ' ' ' ' ' ' ' ']\n",
      " [' ' ' ' ' ' ' ' ' ' ' ' ' ' ' ' ' ' ' ']\n",
      " [' ' ' ' ' ' ' ' ' ' ' ' ' ' ' ' ' ' ' ']\n",
      " [' ' ' ' ' ' ' ' ' ' ' ' ' ' ' ' ' ' ' ']]\n"
     ]
    }
   ],
   "source": [
    "# Ejemplo de uso\n",
    "filas, columnas = 10, 10\n",
    "tablero = inicializar_tablero(filas, columnas)\n",
    "tablero2 = inicializar_tablero(filas, columnas)\n",
    "agregar_barco(tablero, 3)  # Agregar un barco de tamaño 3\n",
    "agregar_barco(tablero, 2)\n",
    "agregar_barco(tablero, 5)\n",
    "agregar_barco(tablero, 1)\n",
    "agregar_barco(tablero2, 5)\n",
    "agregar_barco(tablero2, 1)"
   ]
  },
  {
   "cell_type": "code",
   "execution_count": 3,
   "metadata": {},
   "outputs": [
    {
     "name": "stdout",
     "output_type": "stream",
     "text": [
      "[[' ' ' ' ' ' ' ' ' ' ' ' ' ' ' ' ' ' ' ']\n",
      " [' ' ' ' ' ' ' ' ' ' ' ' ' ' ' ' ' ' ' ']\n",
      " [' ' ' ' ' ' ' ' ' ' ' ' ' ' ' ' ' ' ' ']\n",
      " [' ' ' ' ' ' ' ' ' ' ' ' ' ' ' ' ' ' ' ']\n",
      " [' ' ' ' ' ' ' ' ' ' ' ' ' ' ' ' ' ' ' ']\n",
      " [' ' ' ' ' ' 'B' 'B' ' ' ' ' ' ' ' ' ' ']\n",
      " [' ' ' ' ' ' ' ' 'B' ' ' ' ' ' ' ' ' ' ']\n",
      " [' ' ' ' ' ' ' ' 'B' ' ' ' ' ' ' ' ' ' ']\n",
      " [' ' ' ' ' ' ' ' 'B' ' ' ' ' ' ' ' ' ' ']\n",
      " [' ' ' ' ' ' ' ' 'B' ' ' ' ' ' ' ' ' ' ']]\n"
     ]
    }
   ],
   "source": [
    "print (tablero2)"
   ]
  },
  {
   "cell_type": "code",
   "execution_count": null,
   "metadata": {},
   "outputs": [],
   "source": []
  }
 ],
 "metadata": {
  "kernelspec": {
   "display_name": "Python 3",
   "language": "python",
   "name": "python3"
  },
  "language_info": {
   "codemirror_mode": {
    "name": "ipython",
    "version": 3
   },
   "file_extension": ".py",
   "mimetype": "text/x-python",
   "name": "python",
   "nbconvert_exporter": "python",
   "pygments_lexer": "ipython3",
   "version": "3.10.11"
  }
 },
 "nbformat": 4,
 "nbformat_minor": 2
}
