{
 "cells": [
  {
   "cell_type": "code",
   "execution_count": 1,
   "metadata": {},
   "outputs": [
    {
     "data": {
      "text/plain": [
       "True"
      ]
     },
     "execution_count": 1,
     "metadata": {},
     "output_type": "execute_result"
    }
   ],
   "source": [
    "import pandas as pd\n",
    "import numpy as np\n",
    "import random\n",
    "\n",
    "def inicializar_tablero(filas, columnas): # esto hay que cambiarlo por la variable correspondiente. \n",
    "    return np.full((filas, columnas), \" \", dtype=str)\n",
    "\n",
    "def agregar_barco(tablero, tamano_barco): # esta es la variable principal\n",
    "    direccion = random.choice(['norte', 'sur', 'este', 'oeste'])\n",
    "    if direccion == 'norte':\n",
    "        fila_inicio = random.randint(tamano_barco - 1, len(tablero) - 1)\n",
    "        columna_inicio = random.randint(0, len(tablero[0]) - 1)\n",
    "        if fila_inicio - tamano_barco + 1 >= 0:\n",
    "            for i in range(fila_inicio, fila_inicio - tamano_barco, -1):\n",
    "                if tablero[i][columna_inicio] != \" \":\n",
    "                    return False\n",
    "            for i in range(fila_inicio, fila_inicio - tamano_barco, -1):\n",
    "                tablero[i][columna_inicio] = \"B\"\n",
    "            return True\n",
    "        \n",
    "    elif direccion == 'sur':\n",
    "        fila_inicio = random.randint(0, len(tablero) - tamano_barco)\n",
    "        columna_inicio = random.randint(0, len(tablero[0]) - 1)\n",
    "        if fila_inicio + tamano_barco <= len(tablero):\n",
    "            for i in range(fila_inicio, fila_inicio + tamano_barco):\n",
    "                if tablero[i][columna_inicio] != \" \":\n",
    "                    return False\n",
    "            for i in range(fila_inicio, fila_inicio + tamano_barco):\n",
    "                tablero[i][columna_inicio] = \"B\"\n",
    "            return True\n",
    "        \n",
    "    elif direccion == 'este':\n",
    "        fila_inicio = random.randint(0, len(tablero) - 1)\n",
    "        columna_inicio = random.randint(0, len(tablero[0]) - tamano_barco)\n",
    "        if columna_inicio + tamano_barco <= len(tablero[0]):\n",
    "            for i in range(columna_inicio, columna_inicio + tamano_barco):\n",
    "                if tablero[fila_inicio][i] != \" \":\n",
    "                    return False\n",
    "            for i in range(columna_inicio, columna_inicio + tamano_barco):\n",
    "                tablero[fila_inicio][i] = \"B\"\n",
    "            return True\n",
    "        \n",
    "    elif direccion == 'oeste':\n",
    "        fila_inicio = random.randint(0, len(tablero) - 1)\n",
    "        columna_inicio = random.randint(tamano_barco - 1, len(tablero[0]) - 1)\n",
    "        if columna_inicio - tamano_barco + 1 >= 0:\n",
    "            for i in range(columna_inicio, columna_inicio - tamano_barco, -1):\n",
    "                if tablero[fila_inicio][i] != \" \":\n",
    "                    return False\n",
    "            for i in range(columna_inicio, columna_inicio - tamano_barco, -1):\n",
    "                tablero[fila_inicio][i] = \"B\"\n",
    "            return True\n",
    "\n",
    "# Ejemplo de uso\n",
    "filas, columnas = 10, 10\n",
    "tablero = inicializar_tablero(filas, columnas)\n",
    "tablero2 = inicializar_tablero(filas, columnas)\n",
    "agregar_barco(tablero, 3)  # Agregar un barco de tamaño 3\n",
    "agregar_barco(tablero, 2)\n",
    "agregar_barco(tablero, 5)\n",
    "agregar_barco(tablero, 1)\n",
    "agregar_barco(tablero2, 5)\n",
    "agregar_barco(tablero2, 1)"
   ]
  },
  {
   "cell_type": "code",
   "execution_count": 2,
   "metadata": {},
   "outputs": [
    {
     "name": "stdout",
     "output_type": "stream",
     "text": [
      "[[' ' ' ' ' ' ' ' ' ' ' ' ' ' ' ' ' ' ' ']\n",
      " [' ' ' ' ' ' ' ' ' ' ' ' 'B' 'B' 'B' ' ']\n",
      " [' ' ' ' 'B' ' ' ' ' ' ' ' ' ' ' ' ' ' ']\n",
      " [' ' ' ' 'B' ' ' ' ' ' ' ' ' ' ' ' ' ' ']\n",
      " [' ' ' ' 'B' ' ' ' ' ' ' ' ' ' ' ' ' ' ']\n",
      " ['B' 'B' 'B' 'B' ' ' ' ' ' ' ' ' ' ' ' ']\n",
      " [' ' ' ' 'B' ' ' ' ' ' ' ' ' ' ' ' ' ' ']\n",
      " [' ' ' ' ' ' ' ' ' ' ' ' ' ' ' ' ' ' ' ']\n",
      " [' ' ' ' ' ' ' ' ' ' ' ' ' ' ' ' ' ' ' ']\n",
      " [' ' ' ' ' ' ' ' ' ' ' ' ' ' ' ' ' ' ' ']]\n"
     ]
    }
   ],
   "source": [
    "print (tablero)\n"
   ]
  },
  {
   "cell_type": "code",
   "execution_count": 3,
   "metadata": {},
   "outputs": [
    {
     "name": "stdout",
     "output_type": "stream",
     "text": [
      "[[' ' ' ' ' ' ' ' ' ' ' ' ' ' ' ' ' ' ' ']\n",
      " [' ' ' ' ' ' ' ' ' ' ' ' ' ' ' ' ' ' ' ']\n",
      " [' ' ' ' ' ' ' ' ' ' ' ' ' ' ' ' ' ' ' ']\n",
      " [' ' ' ' ' ' ' ' ' ' ' ' ' ' ' ' ' ' ' ']\n",
      " [' ' ' ' ' ' ' ' ' ' ' ' ' ' ' ' ' ' ' ']\n",
      " [' ' ' ' ' ' 'B' 'B' ' ' ' ' ' ' ' ' ' ']\n",
      " [' ' ' ' ' ' ' ' 'B' ' ' ' ' ' ' ' ' ' ']\n",
      " [' ' ' ' ' ' ' ' 'B' ' ' ' ' ' ' ' ' ' ']\n",
      " [' ' ' ' ' ' ' ' 'B' ' ' ' ' ' ' ' ' ' ']\n",
      " [' ' ' ' ' ' ' ' 'B' ' ' ' ' ' ' ' ' ' ']]\n"
     ]
    }
   ],
   "source": [
    "print (tablero2)"
   ]
  },
  {
   "cell_type": "code",
   "execution_count": null,
   "metadata": {},
   "outputs": [],
   "source": []
  }
 ],
 "metadata": {
  "kernelspec": {
   "display_name": "Python 3",
   "language": "python",
   "name": "python3"
  },
  "language_info": {
   "codemirror_mode": {
    "name": "ipython",
    "version": 3
   },
   "file_extension": ".py",
   "mimetype": "text/x-python",
   "name": "python",
   "nbconvert_exporter": "python",
   "pygments_lexer": "ipython3",
   "version": "3.10.11"
  }
 },
 "nbformat": 4,
 "nbformat_minor": 2
}
